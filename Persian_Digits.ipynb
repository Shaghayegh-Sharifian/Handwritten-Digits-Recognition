{
  "cells": [
    {
      "cell_type": "raw",
      "id": "48a8b01f",
      "metadata": {
        "id": "48a8b01f"
      },
      "source": [
        "The Hoda data set images are flattened and become a vector in the function we have written before, load_hoda.\n",
        "In this call, the length and width of the images are set to 28, so the output of this function is 784 vectors.\n",
        "** Before entering the convolutional network, we have returned the image to its original form, i.e. 28x28.**\n",
        "Also, since the images are black and white, we have set the number of image channels to 1."
      ]
    },
    {
      "cell_type": "code",
      "source": [
        "!wget https://raw.githubusercontent.com/Alireza-Akhavan/SRU-deeplearning-workshop/master/dataset.py\n",
        "!mkdir dataset\n",
        "!wget https://github.com/Alireza-Akhavan/SRU-deeplearning-workshop/raw/master/dataset/Data_hoda_full.mat -P dataset"
      ],
      "metadata": {
        "colab": {
          "base_uri": "https://localhost:8080/"
        },
        "id": "XcPE2O0bEv4d",
        "outputId": "42a81e0a-a828-4e1e-d3d9-eefa4309ea09"
      },
      "id": "XcPE2O0bEv4d",
      "execution_count": 1,
      "outputs": [
        {
          "output_type": "stream",
          "name": "stdout",
          "text": [
            "--2023-09-01 19:19:47--  https://raw.githubusercontent.com/Alireza-Akhavan/SRU-deeplearning-workshop/master/dataset.py\n",
            "Resolving raw.githubusercontent.com (raw.githubusercontent.com)... 185.199.108.133, 185.199.109.133, 185.199.110.133, ...\n",
            "Connecting to raw.githubusercontent.com (raw.githubusercontent.com)|185.199.108.133|:443... connected.\n",
            "HTTP request sent, awaiting response... 200 OK\n",
            "Length: 917 [text/plain]\n",
            "Saving to: ‘dataset.py’\n",
            "\n",
            "\rdataset.py            0%[                    ]       0  --.-KB/s               \rdataset.py          100%[===================>]     917  --.-KB/s    in 0s      \n",
            "\n",
            "2023-09-01 19:19:47 (29.6 MB/s) - ‘dataset.py’ saved [917/917]\n",
            "\n",
            "--2023-09-01 19:19:47--  https://github.com/Alireza-Akhavan/SRU-deeplearning-workshop/raw/master/dataset/Data_hoda_full.mat\n",
            "Resolving github.com (github.com)... 192.30.255.112\n",
            "Connecting to github.com (github.com)|192.30.255.112|:443... connected.\n",
            "HTTP request sent, awaiting response... 301 Moved Permanently\n",
            "Location: https://github.com/Alireza-Akhavan/deeplearning-tensorflow2-notebooks/raw/master/dataset/Data_hoda_full.mat [following]\n",
            "--2023-09-01 19:19:47--  https://github.com/Alireza-Akhavan/deeplearning-tensorflow2-notebooks/raw/master/dataset/Data_hoda_full.mat\n",
            "Reusing existing connection to github.com:443.\n",
            "HTTP request sent, awaiting response... 302 Found\n",
            "Location: https://raw.githubusercontent.com/Alireza-Akhavan/deeplearning-tensorflow2-notebooks/master/dataset/Data_hoda_full.mat [following]\n",
            "--2023-09-01 19:19:48--  https://raw.githubusercontent.com/Alireza-Akhavan/deeplearning-tensorflow2-notebooks/master/dataset/Data_hoda_full.mat\n",
            "Resolving raw.githubusercontent.com (raw.githubusercontent.com)... 185.199.108.133, 185.199.109.133, 185.199.110.133, ...\n",
            "Connecting to raw.githubusercontent.com (raw.githubusercontent.com)|185.199.108.133|:443... connected.\n",
            "HTTP request sent, awaiting response... 200 OK\n",
            "Length: 3989009 (3.8M) [application/octet-stream]\n",
            "Saving to: ‘dataset/Data_hoda_full.mat’\n",
            "\n",
            "Data_hoda_full.mat  100%[===================>]   3.80M  --.-KB/s    in 0.04s   \n",
            "\n",
            "2023-09-01 19:19:48 (89.2 MB/s) - ‘dataset/Data_hoda_full.mat’ saved [3989009/3989009]\n",
            "\n"
          ]
        }
      ]
    },
    {
      "cell_type": "code",
      "execution_count": 2,
      "id": "f8993fba",
      "metadata": {
        "id": "f8993fba"
      },
      "outputs": [],
      "source": [
        "# 1. Import libraries and modules\n",
        "import keras\n",
        "from keras import layers\n",
        "from keras.models import Sequential\n",
        "from keras.layers import Dense, Dropout, Activation\n",
        "import numpy as np\n",
        "from dataset import load_hoda\n",
        "import matplotlib.pyplot as plt"
      ]
    },
    {
      "cell_type": "code",
      "execution_count": 3,
      "id": "5366cfd9",
      "metadata": {
        "id": "5366cfd9"
      },
      "outputs": [],
      "source": [
        "np.random.seed(123)  # for reproducibility"
      ]
    },
    {
      "cell_type": "code",
      "execution_count": 4,
      "id": "506f32af",
      "metadata": {
        "id": "506f32af"
      },
      "outputs": [],
      "source": [
        "# Load pre-shuffled HODA data into train and test sets\n",
        "x_train_original, y_train_original, x_test_original, y_test_original = load_hoda(\n",
        "                                                                        training_sample_size=3500,\n",
        "                                                                        test_sample_size=400,size=28)"
      ]
    },
    {
      "cell_type": "code",
      "execution_count": 5,
      "id": "f02d6689",
      "metadata": {
        "id": "f02d6689"
      },
      "outputs": [],
      "source": [
        "# Preprocess input data\n",
        "''' 3.1: input data in numpy array format'''\n",
        "x_train = np.array(x_train_original)\n",
        "x_test = np.array(x_test_original)\n",
        "'''3.2 normalize our data values to the range [0, 1]'''\n",
        "x_train = x_train.astype('float32')\n",
        "x_test = x_test.astype('float32')\n",
        "x_train /= 255\n",
        "x_test /= 255"
      ]
    },
    {
      "cell_type": "code",
      "execution_count": 6,
      "id": "d96c2899",
      "metadata": {
        "id": "d96c2899"
      },
      "outputs": [],
      "source": [
        "# Reshape to original image shape (n x 784)  ==> (n x 28 x 28 x 1)\n",
        "x_train = x_train.reshape(-1,28,28,1)\n",
        "x_test = x_test.reshape(-1,28,28,1)"
      ]
    },
    {
      "cell_type": "code",
      "source": [
        "plt.subplot()\n",
        "plt.imshow(x_train[7], cmap=plt.cm.gray_r)"
      ],
      "metadata": {
        "colab": {
          "base_uri": "https://localhost:8080/",
          "height": 448
        },
        "id": "0Oee-208F6R8",
        "outputId": "9fa0174a-f1d7-4a5d-c884-2728541a16cc"
      },
      "id": "0Oee-208F6R8",
      "execution_count": 7,
      "outputs": [
        {
          "output_type": "execute_result",
          "data": {
            "text/plain": [
              "<matplotlib.image.AxesImage at 0x7b43f15137f0>"
            ]
          },
          "metadata": {},
          "execution_count": 7
        },
        {
          "output_type": "display_data",
          "data": {
            "text/plain": [
              "<Figure size 640x480 with 1 Axes>"
            ],
            "image/png": "[encoded data removed]"
          },
          "metadata": {}
        }
      ]
    },
    {
      "cell_type": "code",
      "execution_count": 8,
      "id": "3ab20476",
      "metadata": {
        "id": "3ab20476"
      },
      "outputs": [],
      "source": [
        "# 4. Preprocess class labels\n",
        "y_train = keras.utils.to_categorical(y_train_original, num_classes=10)\n",
        "y_test = keras.utils.to_categorical(y_test_original, num_classes=10)"
      ]
    },
    {
      "cell_type": "code",
      "execution_count": 9,
      "id": "f4faacac",
      "metadata": {
        "id": "f4faacac"
      },
      "outputs": [],
      "source": [
        "# test and validation set\n",
        "x_val = x_test[:200]\n",
        "x_test = x_test[200:]\n",
        "y_val = y_test[:200]\n",
        "y_test = y_test[200:]"
      ]
    },
    {
      "cell_type": "code",
      "execution_count": 10,
      "id": "c95a74bc",
      "metadata": {
        "id": "c95a74bc"
      },
      "outputs": [],
      "source": [
        "# 5. Define model architecture\n",
        "model = Sequential()\n",
        "model.add(layers.Conv2D(32, (3, 3), activation='relu',\n",
        "                        input_shape=(28, 28, 1)))\n",
        "model.add(layers.MaxPooling2D((2, 2)))\n",
        "model.add(layers.Conv2D(64, (3, 3), activation='relu'))\n",
        "model.add(layers.MaxPooling2D((2, 2)))\n",
        "model.add(layers.Conv2D(64, (3, 3), activation='relu'))\n",
        "model.add(layers.Flatten())\n",
        "model.add(layers.Dense(64, activation='relu'))\n",
        "model.add(Dropout(0.5))\n",
        "model.add(layers.Dense(10, activation='softmax'))"
      ]
    },
    {
      "cell_type": "code",
      "execution_count": 11,
      "id": "84039b86",
      "metadata": {
        "id": "84039b86"
      },
      "outputs": [],
      "source": [
        "# 6. Compile model\n",
        "model.compile(loss='categorical_crossentropy',\n",
        "              optimizer='adam',\n",
        "              metrics=['accuracy'])"
      ]
    },
    {
      "cell_type": "code",
      "execution_count": 12,
      "id": "e6508c35",
      "metadata": {
        "colab": {
          "base_uri": "https://localhost:8080/"
        },
        "id": "e6508c35",
        "outputId": "9b08c6df-e2c5-4e8a-8857-0a4bf91c21ff"
      },
      "outputs": [
        {
          "output_type": "stream",
          "name": "stdout",
          "text": [
            "Epoch 1/58\n",
            "14/14 [==============================] - 11s 598ms/step - loss: 2.1122 - accuracy: 0.3009 - val_loss: 1.5693 - val_accuracy: 0.6800\n",
            "Epoch 2/58\n",
            "14/14 [==============================] - 9s 625ms/step - loss: 1.2905 - accuracy: 0.5769 - val_loss: 0.5846 - val_accuracy: 0.8100\n",
            "Epoch 3/58\n",
            "14/14 [==============================] - 6s 440ms/step - loss: 0.7768 - accuracy: 0.7486 - val_loss: 0.3358 - val_accuracy: 0.8750\n",
            "Epoch 4/58\n",
            "14/14 [==============================] - 4s 276ms/step - loss: 0.5562 - accuracy: 0.8220 - val_loss: 0.2602 - val_accuracy: 0.9250\n",
            "Epoch 5/58\n",
            "14/14 [==============================] - 4s 298ms/step - loss: 0.4833 - accuracy: 0.8380 - val_loss: 0.2490 - val_accuracy: 0.9100\n",
            "Epoch 6/58\n",
            "14/14 [==============================] - 3s 234ms/step - loss: 0.4208 - accuracy: 0.8617 - val_loss: 0.1742 - val_accuracy: 0.9500\n",
            "Epoch 7/58\n",
            "14/14 [==============================] - 3s 220ms/step - loss: 0.3327 - accuracy: 0.8857 - val_loss: 0.1681 - val_accuracy: 0.9500\n",
            "Epoch 8/58\n",
            "14/14 [==============================] - 5s 341ms/step - loss: 0.3023 - accuracy: 0.8986 - val_loss: 0.1516 - val_accuracy: 0.9650\n",
            "Epoch 9/58\n",
            "14/14 [==============================] - 3s 236ms/step - loss: 0.2703 - accuracy: 0.9097 - val_loss: 0.1315 - val_accuracy: 0.9700\n",
            "Epoch 10/58\n",
            "14/14 [==============================] - 3s 232ms/step - loss: 0.2435 - accuracy: 0.9254 - val_loss: 0.1270 - val_accuracy: 0.9550\n",
            "Epoch 11/58\n",
            "14/14 [==============================] - 4s 252ms/step - loss: 0.2130 - accuracy: 0.9306 - val_loss: 0.1052 - val_accuracy: 0.9650\n",
            "Epoch 12/58\n",
            "14/14 [==============================] - 5s 330ms/step - loss: 0.2065 - accuracy: 0.9323 - val_loss: 0.1054 - val_accuracy: 0.9750\n",
            "Epoch 13/58\n",
            "14/14 [==============================] - 3s 234ms/step - loss: 0.1724 - accuracy: 0.9429 - val_loss: 0.1128 - val_accuracy: 0.9600\n",
            "Epoch 14/58\n",
            "14/14 [==============================] - 3s 231ms/step - loss: 0.1646 - accuracy: 0.9486 - val_loss: 0.0929 - val_accuracy: 0.9700\n",
            "Epoch 15/58\n",
            "14/14 [==============================] - 5s 345ms/step - loss: 0.1714 - accuracy: 0.9437 - val_loss: 0.0883 - val_accuracy: 0.9700\n",
            "Epoch 16/58\n",
            "14/14 [==============================] - 3s 234ms/step - loss: 0.1503 - accuracy: 0.9511 - val_loss: 0.1008 - val_accuracy: 0.9600\n",
            "Epoch 17/58\n",
            "14/14 [==============================] - 3s 236ms/step - loss: 0.1367 - accuracy: 0.9551 - val_loss: 0.0981 - val_accuracy: 0.9650\n",
            "Epoch 18/58\n",
            "14/14 [==============================] - 3s 237ms/step - loss: 0.1381 - accuracy: 0.9563 - val_loss: 0.0882 - val_accuracy: 0.9750\n",
            "Epoch 19/58\n",
            "14/14 [==============================] - 5s 338ms/step - loss: 0.1254 - accuracy: 0.9571 - val_loss: 0.0902 - val_accuracy: 0.9750\n",
            "Epoch 20/58\n",
            "14/14 [==============================] - 3s 236ms/step - loss: 0.1114 - accuracy: 0.9657 - val_loss: 0.0762 - val_accuracy: 0.9750\n",
            "Epoch 21/58\n",
            "14/14 [==============================] - 3s 230ms/step - loss: 0.1091 - accuracy: 0.9649 - val_loss: 0.0770 - val_accuracy: 0.9800\n",
            "Epoch 22/58\n",
            "14/14 [==============================] - 5s 345ms/step - loss: 0.1031 - accuracy: 0.9660 - val_loss: 0.0764 - val_accuracy: 0.9800\n",
            "Epoch 23/58\n",
            "14/14 [==============================] - 3s 238ms/step - loss: 0.1021 - accuracy: 0.9643 - val_loss: 0.0743 - val_accuracy: 0.9800\n",
            "Epoch 24/58\n",
            "14/14 [==============================] - 3s 241ms/step - loss: 0.0986 - accuracy: 0.9683 - val_loss: 0.0647 - val_accuracy: 0.9800\n",
            "Epoch 25/58\n",
            "14/14 [==============================] - 3s 233ms/step - loss: 0.0920 - accuracy: 0.9700 - val_loss: 0.0712 - val_accuracy: 0.9750\n",
            "Epoch 26/58\n",
            "14/14 [==============================] - 5s 344ms/step - loss: 0.0936 - accuracy: 0.9683 - val_loss: 0.0705 - val_accuracy: 0.9750\n",
            "Epoch 27/58\n",
            "14/14 [==============================] - 3s 233ms/step - loss: 0.0825 - accuracy: 0.9746 - val_loss: 0.0751 - val_accuracy: 0.9750\n",
            "Epoch 28/58\n",
            "14/14 [==============================] - 3s 225ms/step - loss: 0.0819 - accuracy: 0.9731 - val_loss: 0.0592 - val_accuracy: 0.9800\n",
            "Epoch 29/58\n",
            "14/14 [==============================] - 4s 316ms/step - loss: 0.0793 - accuracy: 0.9740 - val_loss: 0.0856 - val_accuracy: 0.9800\n",
            "Epoch 30/58\n",
            "14/14 [==============================] - 5s 363ms/step - loss: 0.0818 - accuracy: 0.9731 - val_loss: 0.0918 - val_accuracy: 0.9700\n",
            "Epoch 31/58\n",
            "14/14 [==============================] - 3s 248ms/step - loss: 0.0760 - accuracy: 0.9729 - val_loss: 0.0683 - val_accuracy: 0.9800\n",
            "Epoch 32/58\n",
            "14/14 [==============================] - 4s 320ms/step - loss: 0.0709 - accuracy: 0.9763 - val_loss: 0.0725 - val_accuracy: 0.9800\n",
            "Epoch 33/58\n",
            "14/14 [==============================] - 4s 259ms/step - loss: 0.0676 - accuracy: 0.9763 - val_loss: 0.0952 - val_accuracy: 0.9650\n",
            "Epoch 34/58\n",
            "14/14 [==============================] - 3s 243ms/step - loss: 0.0705 - accuracy: 0.9717 - val_loss: 0.0736 - val_accuracy: 0.9750\n",
            "Epoch 35/58\n",
            "14/14 [==============================] - 3s 243ms/step - loss: 0.0618 - accuracy: 0.9794 - val_loss: 0.0635 - val_accuracy: 0.9750\n",
            "Epoch 36/58\n",
            "14/14 [==============================] - 5s 351ms/step - loss: 0.0542 - accuracy: 0.9831 - val_loss: 0.0658 - val_accuracy: 0.9850\n",
            "Epoch 37/58\n",
            "14/14 [==============================] - 3s 246ms/step - loss: 0.0597 - accuracy: 0.9786 - val_loss: 0.0764 - val_accuracy: 0.9750\n",
            "Epoch 38/58\n",
            "14/14 [==============================] - 3s 240ms/step - loss: 0.0509 - accuracy: 0.9837 - val_loss: 0.0792 - val_accuracy: 0.9800\n",
            "Epoch 39/58\n",
            "14/14 [==============================] - 5s 329ms/step - loss: 0.0581 - accuracy: 0.9806 - val_loss: 0.0833 - val_accuracy: 0.9800\n",
            "Epoch 40/58\n",
            "14/14 [==============================] - 3s 239ms/step - loss: 0.0599 - accuracy: 0.9763 - val_loss: 0.0774 - val_accuracy: 0.9800\n",
            "Epoch 41/58\n",
            "14/14 [==============================] - 3s 242ms/step - loss: 0.0417 - accuracy: 0.9857 - val_loss: 0.0959 - val_accuracy: 0.9800\n",
            "Epoch 42/58\n",
            "14/14 [==============================] - 3s 239ms/step - loss: 0.0495 - accuracy: 0.9826 - val_loss: 0.0739 - val_accuracy: 0.9750\n",
            "Epoch 43/58\n",
            "14/14 [==============================] - 5s 338ms/step - loss: 0.0451 - accuracy: 0.9837 - val_loss: 0.0887 - val_accuracy: 0.9750\n",
            "Epoch 44/58\n",
            "14/14 [==============================] - 3s 235ms/step - loss: 0.0449 - accuracy: 0.9817 - val_loss: 0.0802 - val_accuracy: 0.9850\n",
            "Epoch 45/58\n",
            "14/14 [==============================] - 3s 230ms/step - loss: 0.0441 - accuracy: 0.9814 - val_loss: 0.0810 - val_accuracy: 0.9800\n",
            "Epoch 46/58\n",
            "14/14 [==============================] - 4s 321ms/step - loss: 0.0444 - accuracy: 0.9863 - val_loss: 0.0695 - val_accuracy: 0.9800\n",
            "Epoch 47/58\n",
            "14/14 [==============================] - 4s 245ms/step - loss: 0.0417 - accuracy: 0.9854 - val_loss: 0.0593 - val_accuracy: 0.9850\n",
            "Epoch 48/58\n",
            "14/14 [==============================] - 3s 246ms/step - loss: 0.0470 - accuracy: 0.9817 - val_loss: 0.0698 - val_accuracy: 0.9800\n",
            "Epoch 49/58\n",
            "14/14 [==============================] - 3s 238ms/step - loss: 0.0337 - accuracy: 0.9874 - val_loss: 0.0819 - val_accuracy: 0.9800\n",
            "Epoch 50/58\n",
            "14/14 [==============================] - 5s 357ms/step - loss: 0.0324 - accuracy: 0.9894 - val_loss: 0.0629 - val_accuracy: 0.9850\n",
            "Epoch 51/58\n",
            "14/14 [==============================] - 3s 245ms/step - loss: 0.0295 - accuracy: 0.9900 - val_loss: 0.0561 - val_accuracy: 0.9900\n",
            "Epoch 52/58\n",
            "14/14 [==============================] - 3s 237ms/step - loss: 0.0289 - accuracy: 0.9889 - val_loss: 0.0504 - val_accuracy: 0.9800\n",
            "Epoch 53/58\n",
            "14/14 [==============================] - 5s 361ms/step - loss: 0.0312 - accuracy: 0.9880 - val_loss: 0.0838 - val_accuracy: 0.9800\n",
            "Epoch 54/58\n",
            "14/14 [==============================] - 3s 239ms/step - loss: 0.0374 - accuracy: 0.9854 - val_loss: 0.0576 - val_accuracy: 0.9750\n",
            "Epoch 55/58\n",
            "14/14 [==============================] - 3s 238ms/step - loss: 0.0343 - accuracy: 0.9877 - val_loss: 0.0772 - val_accuracy: 0.9750\n",
            "Epoch 56/58\n",
            "14/14 [==============================] - 3s 245ms/step - loss: 0.0378 - accuracy: 0.9863 - val_loss: 0.0903 - val_accuracy: 0.9750\n",
            "Epoch 57/58\n",
            "14/14 [==============================] - 5s 318ms/step - loss: 0.0303 - accuracy: 0.9900 - val_loss: 0.0773 - val_accuracy: 0.9800\n",
            "Epoch 58/58\n",
            "14/14 [==============================] - 3s 237ms/step - loss: 0.0315 - accuracy: 0.9894 - val_loss: 0.0739 - val_accuracy: 0.9800\n"
          ]
        }
      ],
      "source": [
        "# 7. Fit model on training data\n",
        "history = model.fit(x_train, y_train,\n",
        "          epochs=58, batch_size=256, validation_data = (x_val, y_val))"
      ]
    },
    {
      "cell_type": "code",
      "source": [
        "# Test on unseen data\n",
        "results = model.evaluate(x_val, y_val)\n",
        "\n",
        "print('Final test set loss: {:4f}'.format(results[0]))\n",
        "print('Final test set accuracy: {:4f}'.format(results[1]))"
      ],
      "metadata": {
        "colab": {
          "base_uri": "https://localhost:8080/"
        },
        "id": "bEypBx7PJFxX",
        "outputId": "56293551-66b8-4283-c434-e7e6c51b2e3c"
      },
      "id": "bEypBx7PJFxX",
      "execution_count": 13,
      "outputs": [
        {
          "output_type": "stream",
          "name": "stdout",
          "text": [
            "7/7 [==============================] - 0s 18ms/step - loss: 0.0739 - accuracy: 0.9800\n",
            "Final test set loss: 0.073938\n",
            "Final test set accuracy: 0.980000\n"
          ]
        }
      ]
    },
    {
      "cell_type": "code",
      "execution_count": 14,
      "id": "fc7139e7",
      "metadata": {
        "colab": {
          "base_uri": "https://localhost:8080/",
          "height": 887
        },
        "id": "fc7139e7",
        "outputId": "a2518b96-529a-4836-b60b-8d476987e0f0"
      },
      "outputs": [
        {
          "output_type": "display_data",
          "data": {
            "text/plain": [
              "<Figure size 640x480 with 1 Axes>"
            ],
            "image/png": "[encoded data removed]"
          },
          "metadata": {}
        },
        {
          "output_type": "display_data",
          "data": {
            "text/plain": [
              "<Figure size 640x480 with 1 Axes>"
            ],
            "image/png": "[encoded data removed]"
          },
          "metadata": {}
        }
      ],
      "source": [
        "import matplotlib.pyplot as plt\n",
        "%matplotlib inline\n",
        "acc = history.history['accuracy']\n",
        "val_acc = history.history['val_accuracy']\n",
        "loss = history.history['loss']\n",
        "val_loss = history.history['val_loss']\n",
        "\n",
        "epochs = range(len(acc))\n",
        "\n",
        "plt.plot(epochs, acc, 'bo', label='Training acc')\n",
        "plt.plot(epochs, val_acc, 'b', label='Validation acc')\n",
        "plt.title('Training and validation accuracy')\n",
        "plt.legend()\n",
        "\n",
        "plt.figure()\n",
        "\n",
        "plt.plot(epochs, loss, 'bo', label='Training loss')\n",
        "plt.plot(epochs, val_loss, 'b', label='Validation loss')\n",
        "plt.title('Training and validation loss')\n",
        "plt.legend()\n",
        "\n",
        "plt.show()"
      ]
    }
  ],
  "metadata": {
    "kernelspec": {
      "display_name": "Python 3",
      "name": "python3"
    },
    "language_info": {
      "codemirror_mode": {
        "name": "ipython",
        "version": 3
      },
      "file_extension": ".py",
      "mimetype": "text/x-python",
      "name": "python",
      "nbconvert_exporter": "python",
      "pygments_lexer": "ipython3",
      "version": "3.9.13"
    },
    "colab": {
      "provenance": [],
      "gpuType": "T4"
    },
    "accelerator": "GPU"
  },
  "nbformat": 4,
  "nbformat_minor": 5
}