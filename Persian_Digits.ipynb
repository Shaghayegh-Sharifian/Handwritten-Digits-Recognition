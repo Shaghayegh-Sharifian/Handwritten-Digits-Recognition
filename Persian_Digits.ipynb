{
  "cells": [
    {
      "cell_type": "markdown",
      "source": [
        "# **Hand Written Digits Recognition**"
      ],
      "metadata": {
        "id": "gxDYsWvuSaca"
      },
      "id": "gxDYsWvuSaca"
    },
    {
      "cell_type": "raw",
      "id": "48a8b01f",
      "metadata": {
        "id": "48a8b01f"
      },
      "source": [
        "The Hoda data set images are flattened and become a vector in the function we have written before, load_hoda.\n",
        "In this call, the length and width of the images are set to 28, so the output of this function is 784 vectors."
      ]
    },
    {
      "cell_type": "markdown",
      "source": [
        "## **Import libraries and modules**"
      ],
      "metadata": {
        "id": "AiT5zFtFQqs5"
      },
      "id": "AiT5zFtFQqs5"
    },
    {
      "cell_type": "code",
      "execution_count": 2,
      "id": "f8993fba",
      "metadata": {
        "id": "f8993fba"
      },
      "outputs": [],
      "source": [
        "# 1. Import libraries and modules\n",
        "import keras\n",
        "from keras import layers\n",
        "from keras.models import Sequential\n",
        "from keras.layers import Dense, Dropout, Activation\n",
        "import numpy as np\n",
        "from dataset import load_hoda\n",
        "import matplotlib.pyplot as plt"
      ]
    },
    {
      "cell_type": "code",
      "execution_count": 3,
      "id": "5366cfd9",
      "metadata": {
        "id": "5366cfd9"
      },
      "outputs": [],
      "source": [
        "np.random.seed(123)  # for reproducibility"
      ]
    },
    {
      "cell_type": "code",
      "execution_count": 4,
      "id": "506f32af",
      "metadata": {
        "id": "506f32af"
      },
      "outputs": [],
      "source": [
        "# Load pre-shuffled HODA data into train and test sets\n",
        "x_train_original, y_train_original, x_test_original, y_test_original = load_hoda(\n",
        "                                                                        training_sample_size=3500,\n",
        "                                                                        test_sample_size=400,size=28)"
      ]
    },
    {
      "cell_type": "code",
      "execution_count": 5,
      "id": "f02d6689",
      "metadata": {
        "id": "f02d6689"
      },
      "outputs": [],
      "source": [
        "# Preprocess input data\n",
        "''' 3.1: input data in numpy array format'''\n",
        "x_train = np.array(x_train_original)\n",
        "x_test = np.array(x_test_original)\n",
        "'''3.2 normalize our data values to the range [0, 1]'''\n",
        "x_train = x_train.astype('float32')\n",
        "x_test = x_test.astype('float32')\n",
        "x_train /= 255\n",
        "x_test /= 255"
      ]
    },
    {
      "cell_type": "markdown",
      "source": [
        "### Before entering the convolutional network, we have returned the image to its original form, i.e. 28x28.\n",
        "Also, since the images are black and white, we have set the number of image channels to 1."
      ],
      "metadata": {
        "id": "uSVphL9NRb7b"
      },
      "id": "uSVphL9NRb7b"
    },
    {
      "cell_type": "code",
      "execution_count": 6,
      "id": "d96c2899",
      "metadata": {
        "id": "d96c2899"
      },
      "outputs": [],
      "source": [
        "# Reshape to original image shape (n x 784)  ==> (n x 28 x 28 x 1)\n",
        "x_train = x_train.reshape(-1,28,28,1)\n",
        "x_test = x_test.reshape(-1,28,28,1)"
      ]
    },
    {
      "cell_type": "code",
      "source": [
        "plt.subplot()\n",
        "plt.imshow(x_train[7], cmap=plt.cm.gray_r)"
      ],
      "metadata": {
        "colab": {
          "base_uri": "https://localhost:8080/",
          "height": 448
        },
        "id": "0Oee-208F6R8",
        "outputId": "fd06feff-7a91-4e71-c848-913d295414fa"
      },
      "id": "0Oee-208F6R8",
      "execution_count": 7,
      "outputs": [
        {
          "output_type": "execute_result",
          "data": {
            "text/plain": [
              "<matplotlib.image.AxesImage at 0x7e54a31a9900>"
            ]
          },
          "metadata": {},
          "execution_count": 7
        },
        {
          "output_type": "display_data",
          "data": {
            "text/plain": [
              "<Figure size 640x480 with 1 Axes>"
            ],
            "image/png": "[encoded data removed]"
          },
          "metadata": {}
        }
      ]
    },
    {
      "cell_type": "code",
      "execution_count": 8,
      "id": "3ab20476",
      "metadata": {
        "id": "3ab20476"
      },
      "outputs": [],
      "source": [
        "# 4. Preprocess class labels\n",
        "y_train = keras.utils.to_categorical(y_train_original, num_classes=10)\n",
        "y_test = keras.utils.to_categorical(y_test_original, num_classes=10)"
      ]
    },
    {
      "cell_type": "code",
      "execution_count": 9,
      "id": "f4faacac",
      "metadata": {
        "id": "f4faacac"
      },
      "outputs": [],
      "source": [
        "# test and validation set\n",
        "x_val = x_test[:200]\n",
        "x_test = x_test[200:]\n",
        "y_val = y_test[:200]\n",
        "y_test = y_test[200:]"
      ]
    },
    {
      "cell_type": "markdown",
      "source": [
        "## **Define model architecture**"
      ],
      "metadata": {
        "id": "sAmeirL_QypX"
      },
      "id": "sAmeirL_QypX"
    },
    {
      "cell_type": "code",
      "execution_count": 10,
      "id": "c95a74bc",
      "metadata": {
        "id": "c95a74bc"
      },
      "outputs": [],
      "source": [
        "# 5. Define model architecture\n",
        "model = Sequential()\n",
        "model.add(layers.Conv2D(32, (3, 3), activation='relu',\n",
        "                        input_shape=(28, 28, 1)))\n",
        "model.add(layers.MaxPooling2D((2, 2)))\n",
        "model.add(layers.Conv2D(64, (3, 3), activation='relu'))\n",
        "model.add(layers.MaxPooling2D((2, 2)))\n",
        "model.add(layers.Conv2D(64, (3, 3), activation='relu'))\n",
        "model.add(layers.Flatten())\n",
        "model.add(layers.Dense(64, activation='relu'))\n",
        "model.add(Dropout(0.5))\n",
        "model.add(layers.Dense(10, activation='softmax'))"
      ]
    },
    {
      "cell_type": "code",
      "execution_count": 11,
      "id": "84039b86",
      "metadata": {
        "id": "84039b86"
      },
      "outputs": [],
      "source": [
        "# 6. Compile model\n",
        "model.compile(loss='categorical_crossentropy',\n",
        "              optimizer='adam',\n",
        "              metrics=['accuracy'])"
      ]
    },
    {
      "cell_type": "code",
      "execution_count": 12,
      "id": "e6508c35",
      "metadata": {
        "colab": {
          "base_uri": "https://localhost:8080/"
        },
        "id": "e6508c35",
        "outputId": "c020d420-a1c9-4915-fa10-a7ccff191ed8"
      },
      "outputs": [
        {
          "output_type": "stream",
          "name": "stdout",
          "text": [
            "Epoch 1/58\n",
            "14/14 [==============================] - 10s 479ms/step - loss: 2.0196 - accuracy: 0.3349 - val_loss: 1.2833 - val_accuracy: 0.7500\n",
            "Epoch 2/58\n",
            "14/14 [==============================] - 6s 447ms/step - loss: 1.1544 - accuracy: 0.6097 - val_loss: 0.5585 - val_accuracy: 0.8350\n",
            "Epoch 3/58\n",
            "14/14 [==============================] - 3s 211ms/step - loss: 0.7651 - accuracy: 0.7371 - val_loss: 0.3600 - val_accuracy: 0.8750\n",
            "Epoch 4/58\n",
            "14/14 [==============================] - 3s 215ms/step - loss: 0.5968 - accuracy: 0.7957 - val_loss: 0.2834 - val_accuracy: 0.9000\n",
            "Epoch 5/58\n",
            "14/14 [==============================] - 4s 320ms/step - loss: 0.4921 - accuracy: 0.8349 - val_loss: 0.2250 - val_accuracy: 0.9150\n",
            "Epoch 6/58\n",
            "14/14 [==============================] - 3s 210ms/step - loss: 0.4140 - accuracy: 0.8671 - val_loss: 0.2295 - val_accuracy: 0.9200\n",
            "Epoch 7/58\n",
            "14/14 [==============================] - 3s 207ms/step - loss: 0.3527 - accuracy: 0.8891 - val_loss: 0.1538 - val_accuracy: 0.9550\n",
            "Epoch 8/58\n",
            "14/14 [==============================] - 3s 212ms/step - loss: 0.3105 - accuracy: 0.8954 - val_loss: 0.1685 - val_accuracy: 0.9500\n",
            "Epoch 9/58\n",
            "14/14 [==============================] - 4s 322ms/step - loss: 0.2691 - accuracy: 0.9071 - val_loss: 0.1474 - val_accuracy: 0.9500\n",
            "Epoch 10/58\n",
            "14/14 [==============================] - 3s 212ms/step - loss: 0.2373 - accuracy: 0.9223 - val_loss: 0.1375 - val_accuracy: 0.9600\n",
            "Epoch 11/58\n",
            "14/14 [==============================] - 3s 211ms/step - loss: 0.2141 - accuracy: 0.9294 - val_loss: 0.1138 - val_accuracy: 0.9700\n",
            "Epoch 12/58\n",
            "14/14 [==============================] - 3s 207ms/step - loss: 0.2020 - accuracy: 0.9349 - val_loss: 0.1102 - val_accuracy: 0.9700\n",
            "Epoch 13/58\n",
            "14/14 [==============================] - 4s 319ms/step - loss: 0.1867 - accuracy: 0.9371 - val_loss: 0.1103 - val_accuracy: 0.9700\n",
            "Epoch 14/58\n",
            "14/14 [==============================] - 3s 207ms/step - loss: 0.1593 - accuracy: 0.9500 - val_loss: 0.0940 - val_accuracy: 0.9800\n",
            "Epoch 15/58\n",
            "14/14 [==============================] - 3s 204ms/step - loss: 0.1490 - accuracy: 0.9520 - val_loss: 0.1038 - val_accuracy: 0.9800\n",
            "Epoch 16/58\n",
            "14/14 [==============================] - 3s 207ms/step - loss: 0.1507 - accuracy: 0.9483 - val_loss: 0.1136 - val_accuracy: 0.9650\n",
            "Epoch 17/58\n",
            "14/14 [==============================] - 4s 325ms/step - loss: 0.1435 - accuracy: 0.9549 - val_loss: 0.1058 - val_accuracy: 0.9600\n",
            "Epoch 18/58\n",
            "14/14 [==============================] - 5s 340ms/step - loss: 0.1263 - accuracy: 0.9609 - val_loss: 0.0889 - val_accuracy: 0.9850\n",
            "Epoch 19/58\n",
            "14/14 [==============================] - 4s 295ms/step - loss: 0.1250 - accuracy: 0.9611 - val_loss: 0.0844 - val_accuracy: 0.9750\n",
            "Epoch 20/58\n",
            "14/14 [==============================] - 4s 317ms/step - loss: 0.1193 - accuracy: 0.9551 - val_loss: 0.0867 - val_accuracy: 0.9750\n",
            "Epoch 21/58\n",
            "14/14 [==============================] - 3s 208ms/step - loss: 0.1162 - accuracy: 0.9606 - val_loss: 0.0811 - val_accuracy: 0.9850\n",
            "Epoch 22/58\n",
            "14/14 [==============================] - 3s 252ms/step - loss: 0.1081 - accuracy: 0.9643 - val_loss: 0.0828 - val_accuracy: 0.9750\n",
            "Epoch 23/58\n",
            "14/14 [==============================] - 5s 319ms/step - loss: 0.1037 - accuracy: 0.9651 - val_loss: 0.0680 - val_accuracy: 0.9800\n",
            "Epoch 24/58\n",
            "14/14 [==============================] - 4s 241ms/step - loss: 0.0991 - accuracy: 0.9677 - val_loss: 0.0669 - val_accuracy: 0.9750\n",
            "Epoch 25/58\n",
            "14/14 [==============================] - 4s 303ms/step - loss: 0.1005 - accuracy: 0.9640 - val_loss: 0.0809 - val_accuracy: 0.9800\n",
            "Epoch 26/58\n",
            "14/14 [==============================] - 6s 436ms/step - loss: 0.0918 - accuracy: 0.9694 - val_loss: 0.0767 - val_accuracy: 0.9750\n",
            "Epoch 27/58\n",
            "14/14 [==============================] - 5s 324ms/step - loss: 0.0817 - accuracy: 0.9723 - val_loss: 0.0709 - val_accuracy: 0.9800\n",
            "Epoch 28/58\n",
            "14/14 [==============================] - 3s 208ms/step - loss: 0.0845 - accuracy: 0.9711 - val_loss: 0.0787 - val_accuracy: 0.9700\n",
            "Epoch 29/58\n",
            "14/14 [==============================] - 3s 210ms/step - loss: 0.0824 - accuracy: 0.9697 - val_loss: 0.0748 - val_accuracy: 0.9800\n",
            "Epoch 30/58\n",
            "14/14 [==============================] - 5s 376ms/step - loss: 0.0826 - accuracy: 0.9743 - val_loss: 0.0783 - val_accuracy: 0.9800\n",
            "Epoch 31/58\n",
            "14/14 [==============================] - 4s 289ms/step - loss: 0.0830 - accuracy: 0.9751 - val_loss: 0.0659 - val_accuracy: 0.9850\n",
            "Epoch 32/58\n",
            "14/14 [==============================] - 3s 208ms/step - loss: 0.0668 - accuracy: 0.9769 - val_loss: 0.0660 - val_accuracy: 0.9850\n",
            "Epoch 33/58\n",
            "14/14 [==============================] - 4s 301ms/step - loss: 0.0711 - accuracy: 0.9754 - val_loss: 0.0743 - val_accuracy: 0.9800\n",
            "Epoch 34/58\n",
            "14/14 [==============================] - 3s 204ms/step - loss: 0.0698 - accuracy: 0.9763 - val_loss: 0.0876 - val_accuracy: 0.9700\n",
            "Epoch 35/58\n",
            "14/14 [==============================] - 3s 211ms/step - loss: 0.0736 - accuracy: 0.9726 - val_loss: 0.0727 - val_accuracy: 0.9800\n",
            "Epoch 36/58\n",
            "14/14 [==============================] - 3s 205ms/step - loss: 0.0646 - accuracy: 0.9780 - val_loss: 0.0686 - val_accuracy: 0.9650\n",
            "Epoch 37/58\n",
            "14/14 [==============================] - 4s 298ms/step - loss: 0.0611 - accuracy: 0.9814 - val_loss: 0.0911 - val_accuracy: 0.9700\n",
            "Epoch 38/58\n",
            "14/14 [==============================] - 3s 212ms/step - loss: 0.0594 - accuracy: 0.9791 - val_loss: 0.0743 - val_accuracy: 0.9800\n",
            "Epoch 39/58\n",
            "14/14 [==============================] - 3s 208ms/step - loss: 0.0503 - accuracy: 0.9817 - val_loss: 0.0682 - val_accuracy: 0.9850\n",
            "Epoch 40/58\n",
            "14/14 [==============================] - 3s 205ms/step - loss: 0.0536 - accuracy: 0.9820 - val_loss: 0.0728 - val_accuracy: 0.9700\n",
            "Epoch 41/58\n",
            "14/14 [==============================] - 4s 289ms/step - loss: 0.0499 - accuracy: 0.9823 - val_loss: 0.0663 - val_accuracy: 0.9750\n",
            "Epoch 42/58\n",
            "14/14 [==============================] - 3s 215ms/step - loss: 0.0563 - accuracy: 0.9831 - val_loss: 0.0567 - val_accuracy: 0.9800\n",
            "Epoch 43/58\n",
            "14/14 [==============================] - 3s 212ms/step - loss: 0.0450 - accuracy: 0.9831 - val_loss: 0.0878 - val_accuracy: 0.9800\n",
            "Epoch 44/58\n",
            "14/14 [==============================] - 3s 205ms/step - loss: 0.0545 - accuracy: 0.9806 - val_loss: 0.0753 - val_accuracy: 0.9800\n",
            "Epoch 45/58\n",
            "14/14 [==============================] - 4s 289ms/step - loss: 0.0473 - accuracy: 0.9834 - val_loss: 0.0765 - val_accuracy: 0.9600\n",
            "Epoch 46/58\n",
            "14/14 [==============================] - 3s 230ms/step - loss: 0.0417 - accuracy: 0.9871 - val_loss: 0.0659 - val_accuracy: 0.9800\n",
            "Epoch 47/58\n",
            "14/14 [==============================] - 3s 204ms/step - loss: 0.0460 - accuracy: 0.9840 - val_loss: 0.0815 - val_accuracy: 0.9800\n",
            "Epoch 48/58\n",
            "14/14 [==============================] - 3s 209ms/step - loss: 0.0334 - accuracy: 0.9874 - val_loss: 0.0912 - val_accuracy: 0.9700\n",
            "Epoch 49/58\n",
            "14/14 [==============================] - 5s 349ms/step - loss: 0.0426 - accuracy: 0.9863 - val_loss: 0.0666 - val_accuracy: 0.9750\n",
            "Epoch 50/58\n",
            "14/14 [==============================] - 3s 210ms/step - loss: 0.0424 - accuracy: 0.9834 - val_loss: 0.0700 - val_accuracy: 0.9700\n",
            "Epoch 51/58\n",
            "14/14 [==============================] - 3s 210ms/step - loss: 0.0368 - accuracy: 0.9880 - val_loss: 0.0708 - val_accuracy: 0.9700\n",
            "Epoch 52/58\n",
            "14/14 [==============================] - 3s 208ms/step - loss: 0.0464 - accuracy: 0.9837 - val_loss: 0.0643 - val_accuracy: 0.9800\n",
            "Epoch 53/58\n",
            "14/14 [==============================] - 4s 316ms/step - loss: 0.0379 - accuracy: 0.9886 - val_loss: 0.0739 - val_accuracy: 0.9800\n",
            "Epoch 54/58\n",
            "14/14 [==============================] - 3s 207ms/step - loss: 0.0383 - accuracy: 0.9869 - val_loss: 0.0581 - val_accuracy: 0.9800\n",
            "Epoch 55/58\n",
            "14/14 [==============================] - 3s 210ms/step - loss: 0.0327 - accuracy: 0.9891 - val_loss: 0.0900 - val_accuracy: 0.9800\n",
            "Epoch 56/58\n",
            "14/14 [==============================] - 3s 212ms/step - loss: 0.0325 - accuracy: 0.9909 - val_loss: 0.0733 - val_accuracy: 0.9850\n",
            "Epoch 57/58\n",
            "14/14 [==============================] - 4s 316ms/step - loss: 0.0401 - accuracy: 0.9849 - val_loss: 0.0528 - val_accuracy: 0.9800\n",
            "Epoch 58/58\n",
            "14/14 [==============================] - 3s 205ms/step - loss: 0.0360 - accuracy: 0.9871 - val_loss: 0.0720 - val_accuracy: 0.9850\n"
          ]
        }
      ],
      "source": [
        "# 7. Fit model on training data\n",
        "history = model.fit(x_train, y_train,\n",
        "          epochs=58, batch_size=256, validation_data = (x_val, y_val))"
      ]
    },
    {
      "cell_type": "code",
      "source": [
        "# Test on unseen data\n",
        "results = model.evaluate(x_val, y_val)\n",
        "\n",
        "print('Final test set loss: {:4f}'.format(results[0]))\n",
        "print('Final test set accuracy: {:4f}'.format(results[1]))"
      ],
      "metadata": {
        "colab": {
          "base_uri": "https://localhost:8080/"
        },
        "id": "bEypBx7PJFxX",
        "outputId": "5235176b-b968-4164-9ef9-0652891bdbba"
      },
      "id": "bEypBx7PJFxX",
      "execution_count": 13,
      "outputs": [
        {
          "output_type": "stream",
          "name": "stdout",
          "text": [
            "7/7 [==============================] - 0s 10ms/step - loss: 0.0720 - accuracy: 0.9850\n",
            "Final test set loss: 0.071973\n",
            "Final test set accuracy: 0.985000\n"
          ]
        }
      ]
    },
    {
      "cell_type": "code",
      "execution_count": 14,
      "id": "fc7139e7",
      "metadata": {
        "colab": {
          "base_uri": "https://localhost:8080/",
          "height": 887
        },
        "id": "fc7139e7",
        "outputId": "c8bf1eda-ddfc-4d8c-b4df-e21138df1ea6"
      },
      "outputs": [
        {
          "output_type": "display_data",
          "data": {
            "text/plain": [
              "<Figure size 640x480 with 1 Axes>"
            ],
            "image/png": "[encoded data removed]"
          },
          "metadata": {}
        },
        {
          "output_type": "display_data",
          "data": {
            "text/plain": [
              "<Figure size 640x480 with 1 Axes>"
            ],
            "image/png": "[encoded data removed]"
          },
          "metadata": {}
        }
      ],
      "source": [
        "import matplotlib.pyplot as plt\n",
        "%matplotlib inline\n",
        "acc = history.history['accuracy']\n",
        "val_acc = history.history['val_accuracy']\n",
        "loss = history.history['loss']\n",
        "val_loss = history.history['val_loss']\n",
        "\n",
        "epochs = range(len(acc))\n",
        "\n",
        "plt.plot(epochs, acc, 'bo', label='Training acc')\n",
        "plt.plot(epochs, val_acc, 'b', label='Validation acc')\n",
        "plt.title('Training and validation accuracy')\n",
        "plt.legend()\n",
        "\n",
        "plt.figure()\n",
        "\n",
        "plt.plot(epochs, loss, 'bo', label='Training loss')\n",
        "plt.plot(epochs, val_loss, 'b', label='Validation loss')\n",
        "plt.title('Training and validation loss')\n",
        "plt.legend()\n",
        "\n",
        "plt.show()"
      ]
    }
  ],
  "metadata": {
    "kernelspec": {
      "display_name": "Python 3",
      "name": "python3"
    },
    "language_info": {
      "codemirror_mode": {
        "name": "ipython",
        "version": 3
      },
      "file_extension": ".py",
      "mimetype": "text/x-python",
      "name": "python",
      "nbconvert_exporter": "python",
      "pygments_lexer": "ipython3",
      "version": "3.9.13"
    },
    "colab": {
      "provenance": [],
      "gpuType": "T4"
    },
    "accelerator": "GPU"
  },
  "nbformat": 4,
  "nbformat_minor": 5
}